{
 "cells": [
  {
   "cell_type": "code",
   "execution_count": null,
   "metadata": {},
   "outputs": [],
   "source": [
    "import numpy as np\n",
    "import pandas as pd \n",
    "import matplotlib.pyplot as plt\n",
    "\n",
    "def plot_MNIST_sample(X):\n",
    "    \"\"\"\n",
    "    Plot a random sample of 25 MNIST digits from the dataset X.\n",
    "\n",
    "    Args:\n",
    "    - X (ndarray): The MNIST dataset, with each row representing a flattened 28x28 grayscale image.\n",
    "\n",
    "    Returns:\n",
    "    - None\n",
    "    \"\"\"\n",
    "    # Choose 25 random images from the dataset\n",
    "    indices = np.random.randint(X.shape[0], size=25)\n",
    "    images = X[indices]\n",
    "\n",
    "    # Reshape the images and plot them\n",
    "    fig, axs = plt.subplots(nrows=5, ncols=5, figsize=(8, 8))\n",
    "    for i in range(5):\n",
    "        for j in range(5):\n",
    "            image = images[i*5+j].reshape((28, 28))\n",
    "            axs[i, j].imshow(image, cmap='gray')\n",
    "            axs[i, j].axis('off')\n",
    "\n",
    "    plt.show()"
   ]
  },
  {
   "cell_type": "code",
   "execution_count": null,
   "metadata": {},
   "outputs": [],
   "source": [
    "from sklearn.datasets import fetch_openml\n",
    "\n",
    "# GET mnist data\n",
    "mnist = fetch_openml(name='mnist_784', as_frame = False)\n",
    "X = mnist.data\n",
    "\n",
    "\n",
    "\n",
    "# Visualize\n",
    "plot_MNIST_sample(X)\n"
   ]
  },
  {
   "cell_type": "code",
   "execution_count": null,
   "metadata": {},
   "outputs": [],
   "source": [
    "label = mnist.target"
   ]
  },
  {
   "cell_type": "code",
   "execution_count": null,
   "metadata": {},
   "outputs": [],
   "source": [
    "from sklearn import decomposition\n",
    "pca = decomposition.PCA()"
   ]
  },
  {
   "cell_type": "code",
   "execution_count": null,
   "metadata": {},
   "outputs": [],
   "source": [
    "from sklearn.preprocessing import StandardScaler\n",
    "standardizedData = StandardScaler().fit_transform(X)"
   ]
  },
  {
   "cell_type": "code",
   "execution_count": null,
   "metadata": {},
   "outputs": [],
   "source": [
    "pca.n_components = 2\n",
    "pca_data = pca.fit_transform(standardizedData)"
   ]
  },
  {
   "cell_type": "code",
   "execution_count": null,
   "metadata": {},
   "outputs": [],
   "source": [
    "pca_data.shape"
   ]
  },
  {
   "cell_type": "code",
   "execution_count": null,
   "metadata": {},
   "outputs": [],
   "source": [
    "import seaborn as sns\n",
    "\n",
    "# Combine PCA data with labels\n",
    "pca_data = np.vstack((pca_data.T, label)).T\n",
    "\n",
    "# Create a pandas DataFrame with the PCA data\n",
    "pca_dataFrame = pd.DataFrame(data=pca_data, columns=[\"1st\", \"2nd\", \"label\"])\n",
    "\n",
    "# Create a FacetGrid and plot the data\n",
    "sns.set(style=\"ticks\")\n",
    "sns.FacetGrid(pca_dataFrame, hue=\"label\", height=6).map(plt.scatter, \"1st\", \"2nd\").add_legend()\n",
    "\n",
    "plt.figure(figsize=(10,6))\n",
    "# Display the plot\n",
    "plt.show()"
   ]
  },
  {
   "cell_type": "code",
   "execution_count": null,
   "metadata": {},
   "outputs": [],
   "source": [
    "from sklearn.discriminant_analysis import LinearDiscriminantAnalysis\n",
    "lda = LinearDiscriminantAnalysis()\n",
    "\n",
    "lda_data = lda.fit(standardizedData,label)"
   ]
  },
  {
   "cell_type": "code",
   "execution_count": null,
   "metadata": {},
   "outputs": [],
   "source": [
    "lda_data = lda.transform(standardizedData)"
   ]
  },
  {
   "cell_type": "code",
   "execution_count": null,
   "metadata": {},
   "outputs": [],
   "source": [
    "plt.scatter(lda_data[:, 0], lda_data[:, 1], c=mnist.target.astype(int))\n",
    "plt.xlabel('LD1')\n",
    "plt.ylabel('LD2')\n",
    "plt.show()"
   ]
  }
 ],
 "metadata": {
  "language_info": {
   "name": "python"
  },
  "orig_nbformat": 4
 },
 "nbformat": 4,
 "nbformat_minor": 2
}
